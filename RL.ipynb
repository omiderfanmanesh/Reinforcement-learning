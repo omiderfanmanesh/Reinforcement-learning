{
 "cells": [
  {
   "cell_type": "code",
   "execution_count": 12,
   "metadata": {
    "collapsed": true
   },
   "outputs": [],
   "source": [
    "import numpy as np\n",
    "import math\n",
    "import matplotlib.pyplot as plt\n",
    "np.random.seed(0)"
   ]
  },
  {
   "cell_type": "code",
   "execution_count": 13,
   "outputs": [],
   "source": [
    "states = 7\n",
    "actions = 2\n",
    "\n",
    "P1 = np.array([\n",
    "    [2/3, 1/3, 0,   0,   0,   0 ,  0],\n",
    "    [1/3, 1/3, 1/3, 0,   0,   0,   0],\n",
    "    [0,   1/3, 1/3, 1/3, 0,   0,   0],\n",
    "    [0 ,  0 ,  1/3 ,1/3 ,1/3, 0,   0],\n",
    "    [0 ,  0 ,  0 ,  1/3 ,1/3, 1/3, 0],\n",
    "    [0,   0,   0 ,  0 ,  1/3, 1/3, 1/3],\n",
    "    [0,   0,   0 ,  0,   0,   1/3, 2/3],\n",
    "])\n",
    "\n",
    "\n",
    "\n",
    "P2 = np.array([\n",
    "    [2/3, 1/3, 0,   0,   0,   0 ,  0],\n",
    "    [1/2, 1/4, 1/4, 0,   0,   0,   0],\n",
    "    [0,   1/2, 1/4, 1/4, 0,   0,   0],\n",
    "    [0 ,  0 ,  1/2, 1/4, 1/4, 0,   0],\n",
    "    [0 ,  0 ,  0 ,  1/2, 1/4, 1/4, 0],\n",
    "    [0,   0,   0 ,  0 ,  1/2, 1/4, 1/4],\n",
    "    [0,   0,   0 ,  0,   0,   2/3, 1/3],\n",
    "])\n",
    "\n",
    "\n",
    "R1 = np.array([\n",
    "    [0, 0, 0,   0,   0,   0 ,  0],\n",
    "    [1, 0, 0,   0,   0,   0 ,  0],\n",
    "    [0, 1, 0,   0,   0,   0 ,  0],\n",
    "    [0, 0, 1,   0,   0,   0 ,  0],\n",
    "    [0, 0, 0,   1,   0,   0 ,  0],\n",
    "    [0, 0, 0,   0,   1,   0 ,  0],\n",
    "    [0, 0, 0,   0,   0,   1 ,  0]\n",
    "])\n",
    "\n",
    "R2 = np.array([\n",
    "       [-0.2, -0.2, -0.2, -0.2, -0.2, -0.2, -0.2],\n",
    "       [ 0.8, -0.2, -0.2, -0.2, -0.2, -0.2, -0.2],\n",
    "       [-0.2,  0.8, -0.2, -0.2, -0.2, -0.2, -0.2],\n",
    "       [-0.2, -0.2,  0.8, -0.2, -0.2, -0.2, -0.2],\n",
    "       [-0.2, -0.2, -0.2,  0.8, -0.2, -0.2, -0.2],\n",
    "       [-0.2, -0.2, -0.2, -0.2,  0.8, -0.2, -0.2],\n",
    "       [-0.2, -0.2, -0.2, -0.2, -0.2,  0.8, -0.2]\n",
    "])\n",
    "\n",
    "Q = np.zeros((states,actions))\n",
    "lambda_ = 0.9\n",
    "k_max = 1e+5\n",
    "A = 150\n",
    "B = 300\n",
    "\n"
   ],
   "metadata": {
    "collapsed": false,
    "pycharm": {
     "name": "#%%\n"
    }
   }
  },
  {
   "cell_type": "code",
   "execution_count": 14,
   "outputs": [],
   "source": [
    "state_current = 0\n",
    "state_next = 0\n",
    "\n",
    "for k in range(1,int(k_max)):\n",
    "    alpha = A/(B+k)\n",
    "\n",
    "    #probability of a new customer enter the shop\n",
    "    pnc = 0\n",
    "    #probability of a customer is served and exit the shop\n",
    "    pse = 0\n",
    "    #probability of nothing happens\n",
    "    pnh = 0\n",
    "\n",
    "    a = np.random.binomial(n=1,p=0.5)\n",
    "    action = a\n",
    "\n",
    "    if state_current != 6:\n",
    "        pnc = (1-a) * P1[state_current, state_current+1]+ a*P2[state_current,state_current-1]\n",
    "    if state_current != 0:\n",
    "        pse = (1-a)*P1[state_current,state_current-1]+ a*P2[state_current,state_current-1]\n",
    "        \n",
    "    pnh = (1-a)*P1[state_current,state_current]+a*P2[state_current,state_current]\n",
    "\n",
    "    u = np.random.uniform(low=0,high=1,size=1)\n",
    "\n",
    "    if( u < pnc and state_current != 6):\n",
    "        state_next = state_current+1\n",
    "    if(u> pnc and u<= pnc+pnh):\n",
    "        state_next = state_current\n",
    "    if(u > pnc+pnh and u <= 1 and state_current != 0):\n",
    "        state_next = state_current -1\n",
    "\n",
    "\n",
    "\n",
    "    r = (1-a) * R1[state_current,state_next] +a*R2[state_current,state_next]\n",
    "\n",
    "    Qmax = np.max(Q[state_next:])\n",
    "    Q[state_current,action] = (1-alpha)*Q[state_current,action]+alpha * (r+lambda_*Qmax)\n",
    "\n",
    "\n",
    "    state_current = state_next\n",
    "\n"
   ],
   "metadata": {
    "collapsed": false,
    "pycharm": {
     "name": "#%%\n"
    }
   }
  },
  {
   "cell_type": "code",
   "execution_count": 15,
   "outputs": [],
   "source": [
    "d = np.zeros((states,1))\n",
    "for state in range(0,states):\n",
    "    if Q[state,0]> Q[state,1]:\n",
    "        d[state,0] = 1\n",
    "    else:\n",
    "        d[state,0] = 2\n"
   ],
   "metadata": {
    "collapsed": false,
    "pycharm": {
     "name": "#%%\n"
    }
   }
  },
  {
   "cell_type": "code",
   "execution_count": 23,
   "outputs": [
    {
     "data": {
      "text/plain": "    Q-f-a-1   Q-f-a-2  Best Policy\n0  4.227040  4.027495          1.0\n1  4.555962  4.296285          1.0\n2  4.576997  4.320649          1.0\n3  4.553837  4.269100          1.0\n4  4.567019  4.281094          1.0\n5  4.580975  4.271989          1.0\n6  4.554252  4.718864          2.0",
      "text/html": "<div>\n<style scoped>\n    .dataframe tbody tr th:only-of-type {\n        vertical-align: middle;\n    }\n\n    .dataframe tbody tr th {\n        vertical-align: top;\n    }\n\n    .dataframe thead th {\n        text-align: right;\n    }\n</style>\n<table border=\"1\" class=\"dataframe\">\n  <thead>\n    <tr style=\"text-align: right;\">\n      <th></th>\n      <th>Q-f-a-1</th>\n      <th>Q-f-a-2</th>\n      <th>Best Policy</th>\n    </tr>\n  </thead>\n  <tbody>\n    <tr>\n      <th>0</th>\n      <td>4.227040</td>\n      <td>4.027495</td>\n      <td>1.0</td>\n    </tr>\n    <tr>\n      <th>1</th>\n      <td>4.555962</td>\n      <td>4.296285</td>\n      <td>1.0</td>\n    </tr>\n    <tr>\n      <th>2</th>\n      <td>4.576997</td>\n      <td>4.320649</td>\n      <td>1.0</td>\n    </tr>\n    <tr>\n      <th>3</th>\n      <td>4.553837</td>\n      <td>4.269100</td>\n      <td>1.0</td>\n    </tr>\n    <tr>\n      <th>4</th>\n      <td>4.567019</td>\n      <td>4.281094</td>\n      <td>1.0</td>\n    </tr>\n    <tr>\n      <th>5</th>\n      <td>4.580975</td>\n      <td>4.271989</td>\n      <td>1.0</td>\n    </tr>\n    <tr>\n      <th>6</th>\n      <td>4.554252</td>\n      <td>4.718864</td>\n      <td>2.0</td>\n    </tr>\n  </tbody>\n</table>\n</div>"
     },
     "execution_count": 23,
     "metadata": {},
     "output_type": "execute_result"
    }
   ],
   "source": [
    "Q_ = np.concatenate((Q,d),axis=1)\n",
    "\n",
    "import pandas as pd\n",
    "df = pd.DataFrame({'Q-f-a-1':Q_[:,0],'Q-f-a-2':Q_[:,1],'Best Policy':Q_[:,2]})\n",
    "df"
   ],
   "metadata": {
    "collapsed": false,
    "pycharm": {
     "name": "#%%\n"
    }
   }
  },
  {
   "cell_type": "code",
   "execution_count": 17,
   "outputs": [
    {
     "data": {
      "text/plain": "<Figure size 432x288 with 1 Axes>",
      "image/png": "[encoded data removed]"
     },
     "metadata": {
      "needs_background": "light"
     },
     "output_type": "display_data"
    }
   ],
   "source": [
    "import matplotlib.pyplot as plt\n",
    "\n",
    "\n",
    "\n",
    "fig, ax = plt.subplots()\n",
    "ax.plot(range(0,7),Q_[:,0],  label=\"action 1\")\n",
    "ax.plot( range(0,7), Q_[:,1],label=\"action 2\")\n",
    "ax.legend()\n",
    "\n",
    "plt.show()\n"
   ],
   "metadata": {
    "collapsed": false,
    "pycharm": {
     "name": "#%%\n"
    }
   }
  }
 ],
 "metadata": {
  "kernelspec": {
   "display_name": "Python 3",
   "language": "python",
   "name": "python3"
  },
  "language_info": {
   "codemirror_mode": {
    "name": "ipython",
    "version": 2
   },
   "file_extension": ".py",
   "mimetype": "text/x-python",
   "name": "python",
   "nbconvert_exporter": "python",
   "pygments_lexer": "ipython2",
   "version": "2.7.6"
  }
 },
 "nbformat": 4,
 "nbformat_minor": 0
}